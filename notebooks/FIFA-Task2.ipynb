{
 "cells": [
  {
   "cell_type": "markdown",
   "metadata": {},
   "source": [
    "# Data Analysis Project on FIFA dataset\n",
    "\n",
    "* #### The given data contains the data of 1500+ unique instances and has 13 columns\n",
    "* #### The data will be cleaned and plotted as per required for understanding and will be made ready further use"
   ]
  },
  {
   "cell_type": "code",
   "execution_count": 1,
   "metadata": {},
   "outputs": [],
   "source": [
    "# Importing all libraries that will be required for this project\n",
    "\n",
    "import pandas as pd\n",
    "import numpy as np\n",
    "import matplotlib.pyplot as plt\n",
    "%matplotlib inline\n",
    "import seaborn as sns"
   ]
  },
  {
   "cell_type": "code",
   "execution_count": 2,
   "metadata": {},
   "outputs": [],
   "source": [
    "# Making a dataframe from the given data\n",
    "\n",
    "df = pd.read_csv(\"/home/smayan/Desktop/Smayan_Kulkarni_S4DS/Smayan_Kulkarni_S4DS/data/TASK2- DATA.csv\")"
   ]
  },
  {
   "cell_type": "code",
   "execution_count": 4,
   "metadata": {},
   "outputs": [
    {
     "data": {
      "text/html": [
       "<div>\n",
       "<style scoped>\n",
       "    .dataframe tbody tr th:only-of-type {\n",
       "        vertical-align: middle;\n",
       "    }\n",
       "\n",
       "    .dataframe tbody tr th {\n",
       "        vertical-align: top;\n",
       "    }\n",
       "\n",
       "    .dataframe thead th {\n",
       "        text-align: right;\n",
       "    }\n",
       "</style>\n",
       "<table border=\"1\" class=\"dataframe\">\n",
       "  <thead>\n",
       "    <tr style=\"text-align: right;\">\n",
       "      <th></th>\n",
       "      <th>Season</th>\n",
       "      <th>Competition</th>\n",
       "      <th>Matchday</th>\n",
       "      <th>Date</th>\n",
       "      <th>Venue</th>\n",
       "      <th>Club</th>\n",
       "      <th>Opponent</th>\n",
       "      <th>Result</th>\n",
       "      <th>Playing_Position</th>\n",
       "      <th>Minute</th>\n",
       "      <th>At_score</th>\n",
       "      <th>Type</th>\n",
       "      <th>Goal_assist</th>\n",
       "    </tr>\n",
       "  </thead>\n",
       "  <tbody>\n",
       "    <tr>\n",
       "      <th>0</th>\n",
       "      <td>15/16</td>\n",
       "      <td>LaLiga</td>\n",
       "      <td>26</td>\n",
       "      <td>2/28/16</td>\n",
       "      <td>H</td>\n",
       "      <td>FC Barcelona</td>\n",
       "      <td>Sevilla FC</td>\n",
       "      <td>2:O1</td>\n",
       "      <td>RW</td>\n",
       "      <td>31</td>\n",
       "      <td>1:O1</td>\n",
       "      <td>Direct free kick</td>\n",
       "      <td>NaN</td>\n",
       "    </tr>\n",
       "    <tr>\n",
       "      <th>1</th>\n",
       "      <td>2O/21</td>\n",
       "      <td>NaN</td>\n",
       "      <td>NaN</td>\n",
       "      <td>NaN</td>\n",
       "      <td>A</td>\n",
       "      <td>FC Barcelona</td>\n",
       "      <td>NaN</td>\n",
       "      <td>1:OO</td>\n",
       "      <td>NaN</td>\n",
       "      <td>89</td>\n",
       "      <td>NaN</td>\n",
       "      <td>NaN</td>\n",
       "      <td>NaN</td>\n",
       "    </tr>\n",
       "    <tr>\n",
       "      <th>2</th>\n",
       "      <td>16/17</td>\n",
       "      <td>LaLiga</td>\n",
       "      <td>25</td>\n",
       "      <td>O3-O1-17</td>\n",
       "      <td>H</td>\n",
       "      <td>FC Barcelona</td>\n",
       "      <td>Sporting GijÃ³n</td>\n",
       "      <td>6:O1</td>\n",
       "      <td>RW</td>\n",
       "      <td>9</td>\n",
       "      <td>1:OO</td>\n",
       "      <td>Header</td>\n",
       "      <td>Javier Mascherano</td>\n",
       "    </tr>\n",
       "    <tr>\n",
       "      <th>3</th>\n",
       "      <td>Dec-13</td>\n",
       "      <td>LaLiga</td>\n",
       "      <td>36</td>\n",
       "      <td>O5-O8-13</td>\n",
       "      <td>H</td>\n",
       "      <td>Real Madrid</td>\n",
       "      <td>Malaga CF</td>\n",
       "      <td>6:O2</td>\n",
       "      <td>LW</td>\n",
       "      <td>26</td>\n",
       "      <td>2:O1</td>\n",
       "      <td>Right-footed shot</td>\n",
       "      <td>Xabi Alonso</td>\n",
       "    </tr>\n",
       "    <tr>\n",
       "      <th>4</th>\n",
       "      <td>22/23</td>\n",
       "      <td>UEFA Champions League</td>\n",
       "      <td>Group Stage</td>\n",
       "      <td>1O/5/22</td>\n",
       "      <td>A</td>\n",
       "      <td>Paris Saint-Germain</td>\n",
       "      <td>SL Benfica</td>\n",
       "      <td>1:1</td>\n",
       "      <td>AM</td>\n",
       "      <td>22</td>\n",
       "      <td>O:1</td>\n",
       "      <td>Left-footed shot</td>\n",
       "      <td>Neymar</td>\n",
       "    </tr>\n",
       "  </tbody>\n",
       "</table>\n",
       "</div>"
      ],
      "text/plain": [
       "   Season            Competition     Matchday      Date Venue  \\\n",
       "0   15/16                 LaLiga           26   2/28/16     H   \n",
       "1   2O/21                    NaN          NaN       NaN     A   \n",
       "2   16/17                 LaLiga           25  O3-O1-17     H   \n",
       "3  Dec-13                 LaLiga           36  O5-O8-13     H   \n",
       "4   22/23  UEFA Champions League  Group Stage   1O/5/22     A   \n",
       "\n",
       "                  Club         Opponent Result Playing_Position Minute  \\\n",
       "0         FC Barcelona       Sevilla FC   2:O1               RW     31   \n",
       "1         FC Barcelona              NaN   1:OO              NaN     89   \n",
       "2         FC Barcelona  Sporting GijÃ³n   6:O1               RW      9   \n",
       "3          Real Madrid        Malaga CF   6:O2               LW     26   \n",
       "4  Paris Saint-Germain       SL Benfica    1:1               AM     22   \n",
       "\n",
       "  At_score               Type        Goal_assist  \n",
       "0     1:O1   Direct free kick                NaN  \n",
       "1      NaN                NaN                NaN  \n",
       "2     1:OO             Header  Javier Mascherano  \n",
       "3     2:O1  Right-footed shot        Xabi Alonso  \n",
       "4      O:1   Left-footed shot             Neymar  "
      ]
     },
     "execution_count": 4,
     "metadata": {},
     "output_type": "execute_result"
    }
   ],
   "source": [
    "# Getting a small view of the data\n",
    "\n",
    "df.head(5)"
   ]
  },
  {
   "cell_type": "code",
   "execution_count": 5,
   "metadata": {},
   "outputs": [
    {
     "data": {
      "text/html": [
       "<div>\n",
       "<style scoped>\n",
       "    .dataframe tbody tr th:only-of-type {\n",
       "        vertical-align: middle;\n",
       "    }\n",
       "\n",
       "    .dataframe tbody tr th {\n",
       "        vertical-align: top;\n",
       "    }\n",
       "\n",
       "    .dataframe thead th {\n",
       "        text-align: right;\n",
       "    }\n",
       "</style>\n",
       "<table border=\"1\" class=\"dataframe\">\n",
       "  <thead>\n",
       "    <tr style=\"text-align: right;\">\n",
       "      <th></th>\n",
       "      <th>Season</th>\n",
       "      <th>Competition</th>\n",
       "      <th>Matchday</th>\n",
       "      <th>Date</th>\n",
       "      <th>Venue</th>\n",
       "      <th>Club</th>\n",
       "      <th>Opponent</th>\n",
       "      <th>Result</th>\n",
       "      <th>Playing_Position</th>\n",
       "      <th>Minute</th>\n",
       "      <th>At_score</th>\n",
       "      <th>Type</th>\n",
       "      <th>Goal_assist</th>\n",
       "    </tr>\n",
       "  </thead>\n",
       "  <tbody>\n",
       "    <tr>\n",
       "      <th>count</th>\n",
       "      <td>1511</td>\n",
       "      <td>1497</td>\n",
       "      <td>1507</td>\n",
       "      <td>1498</td>\n",
       "      <td>1504</td>\n",
       "      <td>1508</td>\n",
       "      <td>1500</td>\n",
       "      <td>1500</td>\n",
       "      <td>1435</td>\n",
       "      <td>1500</td>\n",
       "      <td>1507</td>\n",
       "      <td>1475</td>\n",
       "      <td>1012</td>\n",
       "    </tr>\n",
       "    <tr>\n",
       "      <th>unique</th>\n",
       "      <td>22</td>\n",
       "      <td>21</td>\n",
       "      <td>53</td>\n",
       "      <td>852</td>\n",
       "      <td>2</td>\n",
       "      <td>7</td>\n",
       "      <td>174</td>\n",
       "      <td>72</td>\n",
       "      <td>5</td>\n",
       "      <td>108</td>\n",
       "      <td>54</td>\n",
       "      <td>12</td>\n",
       "      <td>159</td>\n",
       "    </tr>\n",
       "    <tr>\n",
       "      <th>top</th>\n",
       "      <td>14/15</td>\n",
       "      <td>LaLiga</td>\n",
       "      <td>Group Stage</td>\n",
       "      <td>1/27/13</td>\n",
       "      <td>H</td>\n",
       "      <td>FC Barcelona</td>\n",
       "      <td>Sevilla FC</td>\n",
       "      <td>3:OO</td>\n",
       "      <td>CF</td>\n",
       "      <td>9O</td>\n",
       "      <td>1:OO</td>\n",
       "      <td>Left-footed shot</td>\n",
       "      <td>Luis Suarez</td>\n",
       "    </tr>\n",
       "    <tr>\n",
       "      <th>freq</th>\n",
       "      <td>127</td>\n",
       "      <td>831</td>\n",
       "      <td>164</td>\n",
       "      <td>8</td>\n",
       "      <td>875</td>\n",
       "      <td>717</td>\n",
       "      <td>71</td>\n",
       "      <td>99</td>\n",
       "      <td>552</td>\n",
       "      <td>32</td>\n",
       "      <td>219</td>\n",
       "      <td>589</td>\n",
       "      <td>52</td>\n",
       "    </tr>\n",
       "  </tbody>\n",
       "</table>\n",
       "</div>"
      ],
      "text/plain": [
       "       Season Competition     Matchday     Date Venue          Club  \\\n",
       "count    1511        1497         1507     1498  1504          1508   \n",
       "unique     22          21           53      852     2             7   \n",
       "top     14/15      LaLiga  Group Stage  1/27/13     H  FC Barcelona   \n",
       "freq      127         831          164        8   875           717   \n",
       "\n",
       "          Opponent Result Playing_Position Minute At_score              Type  \\\n",
       "count         1500   1500             1435   1500     1507              1475   \n",
       "unique         174     72                5    108       54                12   \n",
       "top     Sevilla FC   3:OO               CF     9O     1:OO  Left-footed shot   \n",
       "freq            71     99              552     32      219               589   \n",
       "\n",
       "        Goal_assist  \n",
       "count          1012  \n",
       "unique          159  \n",
       "top     Luis Suarez  \n",
       "freq             52  "
      ]
     },
     "execution_count": 5,
     "metadata": {},
     "output_type": "execute_result"
    }
   ],
   "source": [
    "# Understanding the statistical information in the dataset\n",
    "\n",
    "df.describe()"
   ]
  },
  {
   "cell_type": "code",
   "execution_count": 7,
   "metadata": {},
   "outputs": [
    {
     "data": {
      "text/plain": [
       "(1564, 13)"
      ]
     },
     "execution_count": 7,
     "metadata": {},
     "output_type": "execute_result"
    }
   ],
   "source": [
    "# Checking the rows and columns in the dataframe\n",
    "\n",
    "df.shape"
   ]
  },
  {
   "cell_type": "code",
   "execution_count": 9,
   "metadata": {},
   "outputs": [
    {
     "name": "stdout",
     "output_type": "stream",
     "text": [
      "<class 'pandas.core.frame.DataFrame'>\n",
      "RangeIndex: 1564 entries, 0 to 1563\n",
      "Data columns (total 13 columns):\n",
      " #   Column            Non-Null Count  Dtype \n",
      "---  ------            --------------  ----- \n",
      " 0   Season            1511 non-null   object\n",
      " 1   Competition       1497 non-null   object\n",
      " 2   Matchday          1507 non-null   object\n",
      " 3   Date              1498 non-null   object\n",
      " 4   Venue             1504 non-null   object\n",
      " 5   Club              1508 non-null   object\n",
      " 6   Opponent          1500 non-null   object\n",
      " 7   Result            1500 non-null   object\n",
      " 8   Playing_Position  1435 non-null   object\n",
      " 9   Minute            1500 non-null   object\n",
      " 10  At_score          1507 non-null   object\n",
      " 11  Type              1475 non-null   object\n",
      " 12  Goal_assist       1012 non-null   object\n",
      "dtypes: object(13)\n",
      "memory usage: 159.0+ KB\n"
     ]
    }
   ],
   "source": [
    "# Getting crucial information of the dataframe such as data types and null values\n",
    "\n",
    "df.info()"
   ]
  },
  {
   "cell_type": "code",
   "execution_count": 13,
   "metadata": {},
   "outputs": [
    {
     "data": {
      "text/plain": [
       "Season              object\n",
       "Competition         object\n",
       "Matchday            object\n",
       "Date                object\n",
       "Venue               object\n",
       "Club                object\n",
       "Opponent            object\n",
       "Result              object\n",
       "Playing_Position    object\n",
       "Minute              object\n",
       "At_score            object\n",
       "Type                object\n",
       "Goal_assist         object\n",
       "dtype: object"
      ]
     },
     "execution_count": 13,
     "metadata": {},
     "output_type": "execute_result"
    }
   ],
   "source": [
    "# Checking the data types in the dataframe\n",
    "\n",
    "df.dtypes"
   ]
  },
  {
   "cell_type": "markdown",
   "metadata": {},
   "source": [
    "* #### Here it is seen that even all numerical values are of object type, this to perform any statistical analysis on them they should be converted to integer or float type"
   ]
  },
  {
   "cell_type": "code",
   "execution_count": 11,
   "metadata": {},
   "outputs": [
    {
     "data": {
      "text/plain": [
       "Minute\n",
       "9O      32\n",
       "23      28\n",
       "45      28\n",
       "76      27\n",
       "89      26\n",
       "        ..\n",
       "45+4     1\n",
       "1        1\n",
       "1O9      1\n",
       "9O+7     1\n",
       "1O5      1\n",
       "Name: count, Length: 108, dtype: int64"
      ]
     },
     "execution_count": 11,
     "metadata": {},
     "output_type": "execute_result"
    }
   ],
   "source": [
    "df['Minute'].value_counts()"
   ]
  },
  {
   "cell_type": "code",
   "execution_count": null,
   "metadata": {},
   "outputs": [],
   "source": []
  }
 ],
 "metadata": {
  "kernelspec": {
   "display_name": "Python 3",
   "language": "python",
   "name": "python3"
  },
  "language_info": {
   "codemirror_mode": {
    "name": "ipython",
    "version": 3
   },
   "file_extension": ".py",
   "mimetype": "text/x-python",
   "name": "python",
   "nbconvert_exporter": "python",
   "pygments_lexer": "ipython3",
   "version": "3.12.4"
  }
 },
 "nbformat": 4,
 "nbformat_minor": 2
}
