{
 "cells": [
  {
   "cell_type": "markdown",
   "metadata": {},
   "source": [
    "# Data Analysis Project on FIFA dataset\n",
    "\n",
    "* #### The given data contains the data of 1500+ unique instances and has 13 columns\n",
    "* #### The data will be cleaned and plotted as per required for understanding and will be made ready further use"
   ]
  },
  {
   "cell_type": "code",
   "execution_count": 1,
   "metadata": {},
   "outputs": [],
   "source": [
    "# Importing all libraries that will be required for this project\n",
    "\n",
    "import pandas as pd\n",
    "import numpy as np\n",
    "import matplotlib.pyplot as plt\n",
    "%matplotlib inline\n",
    "import seaborn as sns"
   ]
  },
  {
   "cell_type": "code",
   "execution_count": 2,
   "metadata": {},
   "outputs": [],
   "source": [
    "# Making a dataframe from the given data\n",
    "\n",
    "df = pd.read_csv(\"/home/smayan/Desktop/Smayan_Kulkarni_S4DS/Smayan_Kulkarni_S4DS/data/TASK2- DATA.csv\")"
   ]
  },
  {
   "cell_type": "code",
   "execution_count": 3,
   "metadata": {},
   "outputs": [
    {
     "data": {
      "text/html": [
       "<div>\n",
       "<style scoped>\n",
       "    .dataframe tbody tr th:only-of-type {\n",
       "        vertical-align: middle;\n",
       "    }\n",
       "\n",
       "    .dataframe tbody tr th {\n",
       "        vertical-align: top;\n",
       "    }\n",
       "\n",
       "    .dataframe thead th {\n",
       "        text-align: right;\n",
       "    }\n",
       "</style>\n",
       "<table border=\"1\" class=\"dataframe\">\n",
       "  <thead>\n",
       "    <tr style=\"text-align: right;\">\n",
       "      <th></th>\n",
       "      <th>Season</th>\n",
       "      <th>Competition</th>\n",
       "      <th>Matchday</th>\n",
       "      <th>Date</th>\n",
       "      <th>Venue</th>\n",
       "      <th>Club</th>\n",
       "      <th>Opponent</th>\n",
       "      <th>Result</th>\n",
       "      <th>Playing_Position</th>\n",
       "      <th>Minute</th>\n",
       "      <th>At_score</th>\n",
       "      <th>Type</th>\n",
       "      <th>Goal_assist</th>\n",
       "    </tr>\n",
       "  </thead>\n",
       "  <tbody>\n",
       "    <tr>\n",
       "      <th>0</th>\n",
       "      <td>15/16</td>\n",
       "      <td>LaLiga</td>\n",
       "      <td>26</td>\n",
       "      <td>2/28/16</td>\n",
       "      <td>H</td>\n",
       "      <td>FC Barcelona</td>\n",
       "      <td>Sevilla FC</td>\n",
       "      <td>2:O1</td>\n",
       "      <td>RW</td>\n",
       "      <td>31</td>\n",
       "      <td>1:O1</td>\n",
       "      <td>Direct free kick</td>\n",
       "      <td>NaN</td>\n",
       "    </tr>\n",
       "    <tr>\n",
       "      <th>1</th>\n",
       "      <td>2O/21</td>\n",
       "      <td>NaN</td>\n",
       "      <td>NaN</td>\n",
       "      <td>NaN</td>\n",
       "      <td>A</td>\n",
       "      <td>FC Barcelona</td>\n",
       "      <td>NaN</td>\n",
       "      <td>1:OO</td>\n",
       "      <td>NaN</td>\n",
       "      <td>89</td>\n",
       "      <td>NaN</td>\n",
       "      <td>NaN</td>\n",
       "      <td>NaN</td>\n",
       "    </tr>\n",
       "    <tr>\n",
       "      <th>2</th>\n",
       "      <td>16/17</td>\n",
       "      <td>LaLiga</td>\n",
       "      <td>25</td>\n",
       "      <td>O3-O1-17</td>\n",
       "      <td>H</td>\n",
       "      <td>FC Barcelona</td>\n",
       "      <td>Sporting GijÃ³n</td>\n",
       "      <td>6:O1</td>\n",
       "      <td>RW</td>\n",
       "      <td>9</td>\n",
       "      <td>1:OO</td>\n",
       "      <td>Header</td>\n",
       "      <td>Javier Mascherano</td>\n",
       "    </tr>\n",
       "    <tr>\n",
       "      <th>3</th>\n",
       "      <td>Dec-13</td>\n",
       "      <td>LaLiga</td>\n",
       "      <td>36</td>\n",
       "      <td>O5-O8-13</td>\n",
       "      <td>H</td>\n",
       "      <td>Real Madrid</td>\n",
       "      <td>Malaga CF</td>\n",
       "      <td>6:O2</td>\n",
       "      <td>LW</td>\n",
       "      <td>26</td>\n",
       "      <td>2:O1</td>\n",
       "      <td>Right-footed shot</td>\n",
       "      <td>Xabi Alonso</td>\n",
       "    </tr>\n",
       "    <tr>\n",
       "      <th>4</th>\n",
       "      <td>22/23</td>\n",
       "      <td>UEFA Champions League</td>\n",
       "      <td>Group Stage</td>\n",
       "      <td>1O/5/22</td>\n",
       "      <td>A</td>\n",
       "      <td>Paris Saint-Germain</td>\n",
       "      <td>SL Benfica</td>\n",
       "      <td>1:1</td>\n",
       "      <td>AM</td>\n",
       "      <td>22</td>\n",
       "      <td>O:1</td>\n",
       "      <td>Left-footed shot</td>\n",
       "      <td>Neymar</td>\n",
       "    </tr>\n",
       "  </tbody>\n",
       "</table>\n",
       "</div>"
      ],
      "text/plain": [
       "   Season            Competition     Matchday      Date Venue  \\\n",
       "0   15/16                 LaLiga           26   2/28/16     H   \n",
       "1   2O/21                    NaN          NaN       NaN     A   \n",
       "2   16/17                 LaLiga           25  O3-O1-17     H   \n",
       "3  Dec-13                 LaLiga           36  O5-O8-13     H   \n",
       "4   22/23  UEFA Champions League  Group Stage   1O/5/22     A   \n",
       "\n",
       "                  Club         Opponent Result Playing_Position Minute  \\\n",
       "0         FC Barcelona       Sevilla FC   2:O1               RW     31   \n",
       "1         FC Barcelona              NaN   1:OO              NaN     89   \n",
       "2         FC Barcelona  Sporting GijÃ³n   6:O1               RW      9   \n",
       "3          Real Madrid        Malaga CF   6:O2               LW     26   \n",
       "4  Paris Saint-Germain       SL Benfica    1:1               AM     22   \n",
       "\n",
       "  At_score               Type        Goal_assist  \n",
       "0     1:O1   Direct free kick                NaN  \n",
       "1      NaN                NaN                NaN  \n",
       "2     1:OO             Header  Javier Mascherano  \n",
       "3     2:O1  Right-footed shot        Xabi Alonso  \n",
       "4      O:1   Left-footed shot             Neymar  "
      ]
     },
     "execution_count": 3,
     "metadata": {},
     "output_type": "execute_result"
    }
   ],
   "source": [
    "# Getting a small view of the data\n",
    "\n",
    "df.head(5)"
   ]
  },
  {
   "cell_type": "code",
   "execution_count": 4,
   "metadata": {},
   "outputs": [
    {
     "data": {
      "text/html": [
       "<div>\n",
       "<style scoped>\n",
       "    .dataframe tbody tr th:only-of-type {\n",
       "        vertical-align: middle;\n",
       "    }\n",
       "\n",
       "    .dataframe tbody tr th {\n",
       "        vertical-align: top;\n",
       "    }\n",
       "\n",
       "    .dataframe thead th {\n",
       "        text-align: right;\n",
       "    }\n",
       "</style>\n",
       "<table border=\"1\" class=\"dataframe\">\n",
       "  <thead>\n",
       "    <tr style=\"text-align: right;\">\n",
       "      <th></th>\n",
       "      <th>Season</th>\n",
       "      <th>Competition</th>\n",
       "      <th>Matchday</th>\n",
       "      <th>Date</th>\n",
       "      <th>Venue</th>\n",
       "      <th>Club</th>\n",
       "      <th>Opponent</th>\n",
       "      <th>Result</th>\n",
       "      <th>Playing_Position</th>\n",
       "      <th>Minute</th>\n",
       "      <th>At_score</th>\n",
       "      <th>Type</th>\n",
       "      <th>Goal_assist</th>\n",
       "    </tr>\n",
       "  </thead>\n",
       "  <tbody>\n",
       "    <tr>\n",
       "      <th>count</th>\n",
       "      <td>1511</td>\n",
       "      <td>1497</td>\n",
       "      <td>1507</td>\n",
       "      <td>1498</td>\n",
       "      <td>1504</td>\n",
       "      <td>1508</td>\n",
       "      <td>1500</td>\n",
       "      <td>1500</td>\n",
       "      <td>1435</td>\n",
       "      <td>1500</td>\n",
       "      <td>1507</td>\n",
       "      <td>1475</td>\n",
       "      <td>1012</td>\n",
       "    </tr>\n",
       "    <tr>\n",
       "      <th>unique</th>\n",
       "      <td>22</td>\n",
       "      <td>21</td>\n",
       "      <td>53</td>\n",
       "      <td>852</td>\n",
       "      <td>2</td>\n",
       "      <td>7</td>\n",
       "      <td>174</td>\n",
       "      <td>72</td>\n",
       "      <td>5</td>\n",
       "      <td>108</td>\n",
       "      <td>54</td>\n",
       "      <td>12</td>\n",
       "      <td>159</td>\n",
       "    </tr>\n",
       "    <tr>\n",
       "      <th>top</th>\n",
       "      <td>14/15</td>\n",
       "      <td>LaLiga</td>\n",
       "      <td>Group Stage</td>\n",
       "      <td>1/27/13</td>\n",
       "      <td>H</td>\n",
       "      <td>FC Barcelona</td>\n",
       "      <td>Sevilla FC</td>\n",
       "      <td>3:OO</td>\n",
       "      <td>CF</td>\n",
       "      <td>9O</td>\n",
       "      <td>1:OO</td>\n",
       "      <td>Left-footed shot</td>\n",
       "      <td>Luis Suarez</td>\n",
       "    </tr>\n",
       "    <tr>\n",
       "      <th>freq</th>\n",
       "      <td>127</td>\n",
       "      <td>831</td>\n",
       "      <td>164</td>\n",
       "      <td>8</td>\n",
       "      <td>875</td>\n",
       "      <td>717</td>\n",
       "      <td>71</td>\n",
       "      <td>99</td>\n",
       "      <td>552</td>\n",
       "      <td>32</td>\n",
       "      <td>219</td>\n",
       "      <td>589</td>\n",
       "      <td>52</td>\n",
       "    </tr>\n",
       "  </tbody>\n",
       "</table>\n",
       "</div>"
      ],
      "text/plain": [
       "       Season Competition     Matchday     Date Venue          Club  \\\n",
       "count    1511        1497         1507     1498  1504          1508   \n",
       "unique     22          21           53      852     2             7   \n",
       "top     14/15      LaLiga  Group Stage  1/27/13     H  FC Barcelona   \n",
       "freq      127         831          164        8   875           717   \n",
       "\n",
       "          Opponent Result Playing_Position Minute At_score              Type  \\\n",
       "count         1500   1500             1435   1500     1507              1475   \n",
       "unique         174     72                5    108       54                12   \n",
       "top     Sevilla FC   3:OO               CF     9O     1:OO  Left-footed shot   \n",
       "freq            71     99              552     32      219               589   \n",
       "\n",
       "        Goal_assist  \n",
       "count          1012  \n",
       "unique          159  \n",
       "top     Luis Suarez  \n",
       "freq             52  "
      ]
     },
     "execution_count": 4,
     "metadata": {},
     "output_type": "execute_result"
    }
   ],
   "source": [
    "# Understanding the statistical information in the dataset\n",
    "\n",
    "df.describe()"
   ]
  },
  {
   "cell_type": "code",
   "execution_count": 5,
   "metadata": {},
   "outputs": [
    {
     "data": {
      "text/plain": [
       "(1564, 13)"
      ]
     },
     "execution_count": 5,
     "metadata": {},
     "output_type": "execute_result"
    }
   ],
   "source": [
    "# Checking the rows and columns in the dataframe\n",
    "\n",
    "df.shape"
   ]
  },
  {
   "cell_type": "code",
   "execution_count": 6,
   "metadata": {},
   "outputs": [
    {
     "name": "stdout",
     "output_type": "stream",
     "text": [
      "<class 'pandas.core.frame.DataFrame'>\n",
      "RangeIndex: 1564 entries, 0 to 1563\n",
      "Data columns (total 13 columns):\n",
      " #   Column            Non-Null Count  Dtype \n",
      "---  ------            --------------  ----- \n",
      " 0   Season            1511 non-null   object\n",
      " 1   Competition       1497 non-null   object\n",
      " 2   Matchday          1507 non-null   object\n",
      " 3   Date              1498 non-null   object\n",
      " 4   Venue             1504 non-null   object\n",
      " 5   Club              1508 non-null   object\n",
      " 6   Opponent          1500 non-null   object\n",
      " 7   Result            1500 non-null   object\n",
      " 8   Playing_Position  1435 non-null   object\n",
      " 9   Minute            1500 non-null   object\n",
      " 10  At_score          1507 non-null   object\n",
      " 11  Type              1475 non-null   object\n",
      " 12  Goal_assist       1012 non-null   object\n",
      "dtypes: object(13)\n",
      "memory usage: 159.0+ KB\n"
     ]
    }
   ],
   "source": [
    "# Getting crucial information of the dataframe such as data types and null values\n",
    "\n",
    "df.info()"
   ]
  },
  {
   "cell_type": "code",
   "execution_count": 7,
   "metadata": {},
   "outputs": [
    {
     "data": {
      "text/plain": [
       "Season              object\n",
       "Competition         object\n",
       "Matchday            object\n",
       "Date                object\n",
       "Venue               object\n",
       "Club                object\n",
       "Opponent            object\n",
       "Result              object\n",
       "Playing_Position    object\n",
       "Minute              object\n",
       "At_score            object\n",
       "Type                object\n",
       "Goal_assist         object\n",
       "dtype: object"
      ]
     },
     "execution_count": 7,
     "metadata": {},
     "output_type": "execute_result"
    }
   ],
   "source": [
    "# Checking the data types in the dataframe\n",
    "\n",
    "df.dtypes"
   ]
  },
  {
   "cell_type": "markdown",
   "metadata": {},
   "source": [
    "*  Here it is seen that even all numerical values are of object type, thus to perform any statistical analysis on them the feasible ones should be converted to integer or float type"
   ]
  },
  {
   "cell_type": "code",
   "execution_count": 8,
   "metadata": {},
   "outputs": [
    {
     "data": {
      "text/plain": [
       "array(['31', '89', '9', '26', '22', '64', '81', nan, '36', '63', '59',\n",
       "       '32', '87', '68', '74', '55', '11', '86', '8O', '51', '85', '49',\n",
       "       '45', '3O', '88', '53', '76', '72', '54', '42', '9O', '25', '39',\n",
       "       '16', '28', '73', '12', '18', '45+1', '27', '44', '7O', '13', '71',\n",
       "       '77', '82', '9O+1', '65', '78', '47', '75', '3', '37', '69', '8',\n",
       "       '57', '61', '1O', '17', '21', '24', '41', '83', '23', '2', '33',\n",
       "       '5', '58', '45+2', '43', '62', '2O', '46', '29', '4O', '48', '56',\n",
       "       '6O', '38', '4', '9O+6', '15', '34', '9O+2', '52', '35', '66',\n",
       "       '67', '19', '84', '1', '5O', '79', '6', '9O+4', '11O', '1O4',\n",
       "       '9O+3', '12O', '97', '14', '7', '45+7', '1O3', '45+4', '9O+5',\n",
       "       '1O9', '9O+7', '1O5'], dtype=object)"
      ]
     },
     "execution_count": 8,
     "metadata": {},
     "output_type": "execute_result"
    }
   ],
   "source": [
    "df['Minute'].unique()"
   ]
  },
  {
   "cell_type": "markdown",
   "metadata": {},
   "source": [
    "Here we can see that there are many values which are denoted as \"90+1\", denoting overtime\n",
    "We must take care of such values and combine them to form a single integral time"
   ]
  },
  {
   "cell_type": "code",
   "execution_count": 9,
   "metadata": {},
   "outputs": [
    {
     "data": {
      "text/plain": [
       "64"
      ]
     },
     "execution_count": 9,
     "metadata": {},
     "output_type": "execute_result"
    }
   ],
   "source": [
    "df['Minute'].isnull().sum()"
   ]
  },
  {
   "cell_type": "markdown",
   "metadata": {},
   "source": [
    "* Here we can see that many values under 'Minute' are null, we must take care of such values before diving deeper into optimizing the data"
   ]
  },
  {
   "cell_type": "markdown",
   "metadata": {},
   "source": [
    " * ####  To optimize the 'Minute' column as per the condition here, we will split the data into two columns, one for before the '+' and one for after '+' then we will convert those columns to integer type and add them to have a final 'Main_Time' value"
   ]
  },
  {
   "cell_type": "code",
   "execution_count": 10,
   "metadata": {},
   "outputs": [],
   "source": [
    "# Splitting the data\n",
    "df[['time1','time2']]=df['Minute'].str.split('+', expand=True)\n"
   ]
  },
  {
   "cell_type": "code",
   "execution_count": 11,
   "metadata": {},
   "outputs": [],
   "source": [
    "# Filling all NaN values\n",
    "df['time2']=df['time2'].fillna(0)\n",
    "df['time1']=df['time1'].fillna(0)"
   ]
  },
  {
   "cell_type": "code",
   "execution_count": 12,
   "metadata": {},
   "outputs": [
    {
     "data": {
      "text/plain": [
       "(array([0, '1', '2', '6', '4', '3', '7', '5'], dtype=object),\n",
       " array(['31', '89', '9', '26', '22', '64', '81', 0, '36', '63', '59', '32',\n",
       "        '87', '68', '74', '55', '11', '86', '8O', '51', '85', '49', '45',\n",
       "        '3O', '88', '53', '76', '72', '54', '42', '9O', '25', '39', '16',\n",
       "        '28', '73', '12', '18', '27', '44', '7O', '13', '71', '77', '82',\n",
       "        '65', '78', '47', '75', '3', '37', '69', '8', '57', '61', '1O',\n",
       "        '17', '21', '24', '41', '83', '23', '2', '33', '5', '58', '43',\n",
       "        '62', '2O', '46', '29', '4O', '48', '56', '6O', '38', '4', '15',\n",
       "        '34', '52', '35', '66', '67', '19', '84', '1', '5O', '79', '6',\n",
       "        '11O', '1O4', '12O', '97', '14', '7', '1O3', '1O9', '1O5'],\n",
       "       dtype=object))"
      ]
     },
     "execution_count": 12,
     "metadata": {},
     "output_type": "execute_result"
    }
   ],
   "source": [
    "# Checking all unique values in the columns to check possibility of non numeric instances\n",
    "df['time2'].unique(),df['time1'].unique()"
   ]
  },
  {
   "cell_type": "code",
   "execution_count": 13,
   "metadata": {},
   "outputs": [
    {
     "data": {
      "text/plain": [
       "Season              object\n",
       "Competition         object\n",
       "Matchday            object\n",
       "Date                object\n",
       "Venue               object\n",
       "Club                object\n",
       "Opponent            object\n",
       "Result              object\n",
       "Playing_Position    object\n",
       "Minute              object\n",
       "At_score            object\n",
       "Type                object\n",
       "Goal_assist         object\n",
       "time1               object\n",
       "time2               object\n",
       "dtype: object"
      ]
     },
     "execution_count": 13,
     "metadata": {},
     "output_type": "execute_result"
    }
   ],
   "source": [
    "df.dtypes"
   ]
  },
  {
   "cell_type": "markdown",
   "metadata": {},
   "source": [
    "* #### From here we conclude that 'time1' and 'time2' may contain non numeric values, those values are handled below before converting them into integer type"
   ]
  },
  {
   "cell_type": "code",
   "execution_count": 14,
   "metadata": {},
   "outputs": [],
   "source": [
    "df['time1']=df['time1'].astype(str)\n",
    "df['time2']=df['time2'].astype(str)"
   ]
  },
  {
   "cell_type": "code",
   "execution_count": 15,
   "metadata": {},
   "outputs": [],
   "source": [
    "non_numeric1 = df[~df['time1'].str.isnumeric()]\n",
    "non_numeric2 = df[~df['time2'].str.isnumeric()]"
   ]
  },
  {
   "cell_type": "code",
   "execution_count": 16,
   "metadata": {},
   "outputs": [],
   "source": [
    "df['time1'] = pd.to_numeric(df['time1'], errors='coerce')\n",
    "df['time2']=pd.to_numeric(df['time2'],errors='coerce')"
   ]
  },
  {
   "cell_type": "code",
   "execution_count": 17,
   "metadata": {},
   "outputs": [
    {
     "data": {
      "text/plain": [
       "array([0, 1, 2, 6, 4, 3, 7, 5])"
      ]
     },
     "execution_count": 17,
     "metadata": {},
     "output_type": "execute_result"
    }
   ],
   "source": [
    "df['time2'].unique()"
   ]
  },
  {
   "cell_type": "code",
   "execution_count": 18,
   "metadata": {},
   "outputs": [],
   "source": [
    "df['time1'] = df['time1'].astype(float)\n",
    "df['time2']=df['time2'].astype(float)"
   ]
  },
  {
   "cell_type": "code",
   "execution_count": 19,
   "metadata": {},
   "outputs": [
    {
     "data": {
      "text/plain": [
       "Season               object\n",
       "Competition          object\n",
       "Matchday             object\n",
       "Date                 object\n",
       "Venue                object\n",
       "Club                 object\n",
       "Opponent             object\n",
       "Result               object\n",
       "Playing_Position     object\n",
       "Minute               object\n",
       "At_score             object\n",
       "Type                 object\n",
       "Goal_assist          object\n",
       "time1               float64\n",
       "time2               float64\n",
       "dtype: object"
      ]
     },
     "execution_count": 19,
     "metadata": {},
     "output_type": "execute_result"
    }
   ],
   "source": [
    "df.dtypes"
   ]
  },
  {
   "cell_type": "markdown",
   "metadata": {},
   "source": [
    "* 'time1' and 'time2' have been converted to integer type, now we can create a final column and drop the unnecessary ones"
   ]
  },
  {
   "cell_type": "code",
   "execution_count": 20,
   "metadata": {},
   "outputs": [
    {
     "data": {
      "text/plain": [
       "numpy.float64"
      ]
     },
     "execution_count": 20,
     "metadata": {},
     "output_type": "execute_result"
    }
   ],
   "source": [
    "df['Main_Time'] = df['time1']+df['time2']\n",
    "type(df['Main_Time'][0])"
   ]
  },
  {
   "cell_type": "code",
   "execution_count": 21,
   "metadata": {},
   "outputs": [],
   "source": [
    "df.drop(['time1','time2','Minute'], axis=1,inplace=True)"
   ]
  },
  {
   "cell_type": "code",
   "execution_count": 22,
   "metadata": {},
   "outputs": [
    {
     "data": {
      "text/html": [
       "<div>\n",
       "<style scoped>\n",
       "    .dataframe tbody tr th:only-of-type {\n",
       "        vertical-align: middle;\n",
       "    }\n",
       "\n",
       "    .dataframe tbody tr th {\n",
       "        vertical-align: top;\n",
       "    }\n",
       "\n",
       "    .dataframe thead th {\n",
       "        text-align: right;\n",
       "    }\n",
       "</style>\n",
       "<table border=\"1\" class=\"dataframe\">\n",
       "  <thead>\n",
       "    <tr style=\"text-align: right;\">\n",
       "      <th></th>\n",
       "      <th>Season</th>\n",
       "      <th>Competition</th>\n",
       "      <th>Matchday</th>\n",
       "      <th>Date</th>\n",
       "      <th>Venue</th>\n",
       "      <th>Club</th>\n",
       "      <th>Opponent</th>\n",
       "      <th>Result</th>\n",
       "      <th>Playing_Position</th>\n",
       "      <th>At_score</th>\n",
       "      <th>Type</th>\n",
       "      <th>Goal_assist</th>\n",
       "      <th>Main_Time</th>\n",
       "    </tr>\n",
       "  </thead>\n",
       "  <tbody>\n",
       "    <tr>\n",
       "      <th>0</th>\n",
       "      <td>15/16</td>\n",
       "      <td>LaLiga</td>\n",
       "      <td>26</td>\n",
       "      <td>2/28/16</td>\n",
       "      <td>H</td>\n",
       "      <td>FC Barcelona</td>\n",
       "      <td>Sevilla FC</td>\n",
       "      <td>2:O1</td>\n",
       "      <td>RW</td>\n",
       "      <td>1:O1</td>\n",
       "      <td>Direct free kick</td>\n",
       "      <td>NaN</td>\n",
       "      <td>31.0</td>\n",
       "    </tr>\n",
       "    <tr>\n",
       "      <th>1</th>\n",
       "      <td>2O/21</td>\n",
       "      <td>NaN</td>\n",
       "      <td>NaN</td>\n",
       "      <td>NaN</td>\n",
       "      <td>A</td>\n",
       "      <td>FC Barcelona</td>\n",
       "      <td>NaN</td>\n",
       "      <td>1:OO</td>\n",
       "      <td>NaN</td>\n",
       "      <td>NaN</td>\n",
       "      <td>NaN</td>\n",
       "      <td>NaN</td>\n",
       "      <td>89.0</td>\n",
       "    </tr>\n",
       "    <tr>\n",
       "      <th>2</th>\n",
       "      <td>16/17</td>\n",
       "      <td>LaLiga</td>\n",
       "      <td>25</td>\n",
       "      <td>O3-O1-17</td>\n",
       "      <td>H</td>\n",
       "      <td>FC Barcelona</td>\n",
       "      <td>Sporting GijÃ³n</td>\n",
       "      <td>6:O1</td>\n",
       "      <td>RW</td>\n",
       "      <td>1:OO</td>\n",
       "      <td>Header</td>\n",
       "      <td>Javier Mascherano</td>\n",
       "      <td>9.0</td>\n",
       "    </tr>\n",
       "    <tr>\n",
       "      <th>3</th>\n",
       "      <td>Dec-13</td>\n",
       "      <td>LaLiga</td>\n",
       "      <td>36</td>\n",
       "      <td>O5-O8-13</td>\n",
       "      <td>H</td>\n",
       "      <td>Real Madrid</td>\n",
       "      <td>Malaga CF</td>\n",
       "      <td>6:O2</td>\n",
       "      <td>LW</td>\n",
       "      <td>2:O1</td>\n",
       "      <td>Right-footed shot</td>\n",
       "      <td>Xabi Alonso</td>\n",
       "      <td>26.0</td>\n",
       "    </tr>\n",
       "    <tr>\n",
       "      <th>4</th>\n",
       "      <td>22/23</td>\n",
       "      <td>UEFA Champions League</td>\n",
       "      <td>Group Stage</td>\n",
       "      <td>1O/5/22</td>\n",
       "      <td>A</td>\n",
       "      <td>Paris Saint-Germain</td>\n",
       "      <td>SL Benfica</td>\n",
       "      <td>1:1</td>\n",
       "      <td>AM</td>\n",
       "      <td>O:1</td>\n",
       "      <td>Left-footed shot</td>\n",
       "      <td>Neymar</td>\n",
       "      <td>22.0</td>\n",
       "    </tr>\n",
       "    <tr>\n",
       "      <th>...</th>\n",
       "      <td>...</td>\n",
       "      <td>...</td>\n",
       "      <td>...</td>\n",
       "      <td>...</td>\n",
       "      <td>...</td>\n",
       "      <td>...</td>\n",
       "      <td>...</td>\n",
       "      <td>...</td>\n",
       "      <td>...</td>\n",
       "      <td>...</td>\n",
       "      <td>...</td>\n",
       "      <td>...</td>\n",
       "      <td>...</td>\n",
       "    </tr>\n",
       "    <tr>\n",
       "      <th>1559</th>\n",
       "      <td>2O/21</td>\n",
       "      <td>Serie A</td>\n",
       "      <td>36</td>\n",
       "      <td>O5-12-21</td>\n",
       "      <td>A</td>\n",
       "      <td>Juventus FC</td>\n",
       "      <td>US Sassuolo</td>\n",
       "      <td>1:O3</td>\n",
       "      <td>CF</td>\n",
       "      <td>O:O2</td>\n",
       "      <td>Left-footed shot</td>\n",
       "      <td>NaN</td>\n",
       "      <td>45.0</td>\n",
       "    </tr>\n",
       "    <tr>\n",
       "      <th>1560</th>\n",
       "      <td>Dec-13</td>\n",
       "      <td>UEFA Champions League</td>\n",
       "      <td>Group Stage</td>\n",
       "      <td>1O-O3-12</td>\n",
       "      <td>A</td>\n",
       "      <td>Real Madrid</td>\n",
       "      <td>Ajax Amsterdam</td>\n",
       "      <td>1:O4</td>\n",
       "      <td>LW</td>\n",
       "      <td>1:O3</td>\n",
       "      <td>Right-footed shot</td>\n",
       "      <td>Karim Benzema</td>\n",
       "      <td>79.0</td>\n",
       "    </tr>\n",
       "    <tr>\n",
       "      <th>1561</th>\n",
       "      <td>14/15</td>\n",
       "      <td>LaLiga</td>\n",
       "      <td>22</td>\n",
       "      <td>O2/O8-15</td>\n",
       "      <td>A</td>\n",
       "      <td>FC Barcelona</td>\n",
       "      <td>Athletic Bilbao</td>\n",
       "      <td>2:O5</td>\n",
       "      <td>RW</td>\n",
       "      <td>O:O1</td>\n",
       "      <td>Direct free kick</td>\n",
       "      <td>NaN</td>\n",
       "      <td>15.0</td>\n",
       "    </tr>\n",
       "    <tr>\n",
       "      <th>1562</th>\n",
       "      <td>2O/21</td>\n",
       "      <td>Serie A</td>\n",
       "      <td>27</td>\n",
       "      <td>3/14/21</td>\n",
       "      <td>A</td>\n",
       "      <td>Juventus FC</td>\n",
       "      <td>Cagliari Calcio</td>\n",
       "      <td>1:O3</td>\n",
       "      <td>CF</td>\n",
       "      <td>O:O3</td>\n",
       "      <td>Left-footed shot</td>\n",
       "      <td>Federico Chiesa</td>\n",
       "      <td>32.0</td>\n",
       "    </tr>\n",
       "    <tr>\n",
       "      <th>1563</th>\n",
       "      <td>13/14</td>\n",
       "      <td>LaLiga</td>\n",
       "      <td>31</td>\n",
       "      <td>3/29/14</td>\n",
       "      <td>H</td>\n",
       "      <td>Real Madrid</td>\n",
       "      <td>Rayo Vallecano</td>\n",
       "      <td>5:OO</td>\n",
       "      <td>LW</td>\n",
       "      <td>1:OO</td>\n",
       "      <td>Right-footed shot</td>\n",
       "      <td>Gareth Bale</td>\n",
       "      <td>15.0</td>\n",
       "    </tr>\n",
       "  </tbody>\n",
       "</table>\n",
       "<p>1564 rows × 13 columns</p>\n",
       "</div>"
      ],
      "text/plain": [
       "      Season            Competition     Matchday      Date Venue  \\\n",
       "0      15/16                 LaLiga           26   2/28/16     H   \n",
       "1      2O/21                    NaN          NaN       NaN     A   \n",
       "2      16/17                 LaLiga           25  O3-O1-17     H   \n",
       "3     Dec-13                 LaLiga           36  O5-O8-13     H   \n",
       "4      22/23  UEFA Champions League  Group Stage   1O/5/22     A   \n",
       "...      ...                    ...          ...       ...   ...   \n",
       "1559   2O/21                Serie A           36  O5-12-21     A   \n",
       "1560  Dec-13  UEFA Champions League  Group Stage  1O-O3-12     A   \n",
       "1561   14/15                 LaLiga           22  O2/O8-15     A   \n",
       "1562   2O/21                Serie A           27   3/14/21     A   \n",
       "1563   13/14                 LaLiga           31   3/29/14     H   \n",
       "\n",
       "                     Club         Opponent Result Playing_Position At_score  \\\n",
       "0            FC Barcelona       Sevilla FC   2:O1               RW     1:O1   \n",
       "1            FC Barcelona              NaN   1:OO              NaN      NaN   \n",
       "2            FC Barcelona  Sporting GijÃ³n   6:O1               RW     1:OO   \n",
       "3             Real Madrid        Malaga CF   6:O2               LW     2:O1   \n",
       "4     Paris Saint-Germain       SL Benfica    1:1               AM      O:1   \n",
       "...                   ...              ...    ...              ...      ...   \n",
       "1559          Juventus FC      US Sassuolo   1:O3               CF     O:O2   \n",
       "1560          Real Madrid   Ajax Amsterdam   1:O4               LW     1:O3   \n",
       "1561         FC Barcelona  Athletic Bilbao   2:O5               RW     O:O1   \n",
       "1562          Juventus FC  Cagliari Calcio   1:O3               CF     O:O3   \n",
       "1563          Real Madrid   Rayo Vallecano   5:OO               LW     1:OO   \n",
       "\n",
       "                   Type        Goal_assist  Main_Time  \n",
       "0      Direct free kick                NaN       31.0  \n",
       "1                   NaN                NaN       89.0  \n",
       "2                Header  Javier Mascherano        9.0  \n",
       "3     Right-footed shot        Xabi Alonso       26.0  \n",
       "4      Left-footed shot             Neymar       22.0  \n",
       "...                 ...                ...        ...  \n",
       "1559   Left-footed shot                NaN       45.0  \n",
       "1560  Right-footed shot      Karim Benzema       79.0  \n",
       "1561   Direct free kick                NaN       15.0  \n",
       "1562   Left-footed shot    Federico Chiesa       32.0  \n",
       "1563  Right-footed shot        Gareth Bale       15.0  \n",
       "\n",
       "[1564 rows x 13 columns]"
      ]
     },
     "execution_count": 22,
     "metadata": {},
     "output_type": "execute_result"
    }
   ],
   "source": [
    "df"
   ]
  },
  {
   "cell_type": "markdown",
   "metadata": {},
   "source": [
    "## Understanding the Amount of null values in the DataFrame"
   ]
  },
  {
   "cell_type": "code",
   "execution_count": 23,
   "metadata": {},
   "outputs": [
    {
     "data": {
      "text/plain": [
       "Season               53\n",
       "Competition          67\n",
       "Matchday             57\n",
       "Date                 66\n",
       "Venue                60\n",
       "Club                 56\n",
       "Opponent             64\n",
       "Result               64\n",
       "Playing_Position    129\n",
       "At_score             57\n",
       "Type                 89\n",
       "Goal_assist         552\n",
       "Main_Time           217\n",
       "dtype: int64"
      ]
     },
     "execution_count": 23,
     "metadata": {},
     "output_type": "execute_result"
    }
   ],
   "source": [
    "df.isnull().sum()"
   ]
  },
  {
   "cell_type": "code",
   "execution_count": 30,
   "metadata": {},
   "outputs": [
    {
     "name": "stdout",
     "output_type": "stream",
     "text": [
      "Goal_assist: 35.29%\n",
      "Main_Time: 13.87%\n",
      "Playing_Position: 8.25%\n"
     ]
    }
   ],
   "source": [
    "def get_null_percentages(df, columns):\n",
    "    result = {}\n",
    "    for col in columns:\n",
    "        if col in df.columns:\n",
    "            null_count = df[col].isnull().sum()\n",
    "            total_count = len(df)\n",
    "            null_percentage = (null_count / total_count) * 100\n",
    "            result[col] = round(null_percentage, 2)\n",
    "        else:\n",
    "            result[col] = \"Column not found\"\n",
    "\n",
    "    return result\n",
    "\n",
    "columns_checking=['Goal_assist', 'Main_Time','Playing_Position']\n",
    "null_percentage = get_null_percentages(df, columns_checking)\n",
    "\n",
    "for column, percentage in null_percentage.items():\n",
    "    if isinstance(percentage, float):\n",
    "        print(f\"{column}: {percentage}%\")\n",
    "    else:\n",
    "        print(f\"{column}: {percentage}\")\n",
    "\n"
   ]
  },
  {
   "cell_type": "code",
   "execution_count": 32,
   "metadata": {},
   "outputs": [
    {
     "data": {
      "image/png": "[encoded data removed]",
      "text/plain": [
       "<Figure size 640x480 with 1 Axes>"
      ]
     },
     "metadata": {},
     "output_type": "display_data"
    }
   ],
   "source": [
    "sns.barplot(data=null_percentage, x=null_percentage.values(), y=null_percentage.keys(), palette='viridis', hue=null_percentage.keys()).set(title=\"Percentage of Missing Values\", xlabel=\"Percentage (%)\", ylabel=\"Features\")\n",
    "plt.show()"
   ]
  },
  {
   "cell_type": "markdown",
   "metadata": {},
   "source": [
    "* #### Here Goal Assist is the name of the player who has assisted in scoring the goal, so using a process to fill the value of the empty instance wont make sense, it could make sense to make it a target variable and then while taking Competition, Match Day, Club and Playing Position it can be predicted with some accuracy who the player could be in the given empty instance.\n",
    "* #### Here Main_Time is the time at which most goals have been scored, the values in this column can be filled by a statistical method. \n",
    "* #### Here Playing_Position has a null percentage of less than 10% so we need not perform deep analysis into this column."
   ]
  },
  {
   "cell_type": "code",
   "execution_count": null,
   "metadata": {},
   "outputs": [],
   "source": []
  }
 ],
 "metadata": {
  "kernelspec": {
   "display_name": "Python 3",
   "language": "python",
   "name": "python3"
  },
  "language_info": {
   "codemirror_mode": {
    "name": "ipython",
    "version": 3
   },
   "file_extension": ".py",
   "mimetype": "text/x-python",
   "name": "python",
   "nbconvert_exporter": "python",
   "pygments_lexer": "ipython3",
   "version": "3.12.4"
  }
 },
 "nbformat": 4,
 "nbformat_minor": 2
}
